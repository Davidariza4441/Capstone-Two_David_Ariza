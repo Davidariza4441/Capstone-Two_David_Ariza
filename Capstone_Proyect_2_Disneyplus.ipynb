{
 "cells": [
  {
   "cell_type": "code",
   "execution_count": 4,
   "id": "e55158ad",
   "metadata": {},
   "outputs": [],
   "source": [
    "file = '/Users/ez/Downloads/disney_plus_shows.csv'"
   ]
  },
  {
   "cell_type": "code",
   "execution_count": 16,
   "id": "e23cf93f",
   "metadata": {},
   "outputs": [
    {
     "name": "stdout",
     "output_type": "stream",
     "text": [
      "<class 'pandas.core.frame.DataFrame'>\n",
      "RangeIndex: 992 entries, 0 to 991\n",
      "Data columns (total 19 columns):\n",
      " #   Column       Non-Null Count  Dtype  \n",
      "---  ------       --------------  -----  \n",
      " 0   imdb_id      894 non-null    object \n",
      " 1   title        894 non-null    object \n",
      " 2   plot         866 non-null    object \n",
      " 3   type         894 non-null    object \n",
      " 4   rated        742 non-null    object \n",
      " 5   year         894 non-null    object \n",
      " 6   released_at  874 non-null    object \n",
      " 7   added_at     992 non-null    object \n",
      " 8   runtime      838 non-null    object \n",
      " 9   genre        885 non-null    object \n",
      " 10  director     689 non-null    object \n",
      " 11  writer       743 non-null    object \n",
      " 12  actors       870 non-null    object \n",
      " 13  language     865 non-null    object \n",
      " 14  country      869 non-null    object \n",
      " 15  awards       556 non-null    object \n",
      " 16  metascore    292 non-null    float64\n",
      " 17  imdb_rating  879 non-null    float64\n",
      " 18  imdb_votes   879 non-null    object \n",
      "dtypes: float64(2), object(17)\n",
      "memory usage: 147.4+ KB\n"
     ]
    }
   ],
   "source": [
    "import pandas as pd\n",
    "df= pd.read_csv(file)\n",
    "df.info()"
   ]
  },
  {
   "cell_type": "code",
   "execution_count": 15,
   "id": "e1063dc7",
   "metadata": {},
   "outputs": [
    {
     "name": "stdout",
     "output_type": "stream",
     "text": [
      "<class 'pandas.core.frame.DataFrame'>\n",
      "Int64Index: 740 entries, 1 to 990\n",
      "Data columns (total 19 columns):\n",
      " #   Column       Non-Null Count  Dtype  \n",
      "---  ------       --------------  -----  \n",
      " 0   imdb_id      642 non-null    object \n",
      " 1   title        642 non-null    object \n",
      " 2   plot         614 non-null    object \n",
      " 3   type         642 non-null    object \n",
      " 4   rated        490 non-null    object \n",
      " 5   year         642 non-null    object \n",
      " 6   released_at  622 non-null    object \n",
      " 7   added_at     740 non-null    object \n",
      " 8   runtime      586 non-null    object \n",
      " 9   genre        633 non-null    object \n",
      " 10  director     437 non-null    object \n",
      " 11  writer       491 non-null    object \n",
      " 12  actors       618 non-null    object \n",
      " 13  language     613 non-null    object \n",
      " 14  country      617 non-null    object \n",
      " 15  awards       304 non-null    object \n",
      " 16  metascore    40 non-null     float64\n",
      " 17  imdb_rating  627 non-null    float64\n",
      " 18  imdb_votes   627 non-null    object \n",
      "dtypes: float64(2), object(17)\n",
      "memory usage: 115.6+ KB\n"
     ]
    }
   ],
   "source": [
    "is_NaN= df.isnull()\n",
    "row_has_NaN= is_NaN.any(axis=1)\n",
    "rows_with_NaN = df[row_has_NaN]\n",
    "rows_with_NaN.info()"
   ]
  },
  {
   "cell_type": "code",
   "execution_count": null,
   "id": "a5da8a09",
   "metadata": {},
   "outputs": [],
   "source": []
  }
 ],
 "metadata": {
  "kernelspec": {
   "display_name": "Python 3 (ipykernel)",
   "language": "python",
   "name": "python3"
  },
  "language_info": {
   "codemirror_mode": {
    "name": "ipython",
    "version": 3
   },
   "file_extension": ".py",
   "mimetype": "text/x-python",
   "name": "python",
   "nbconvert_exporter": "python",
   "pygments_lexer": "ipython3",
   "version": "3.9.12"
  }
 },
 "nbformat": 4,
 "nbformat_minor": 5
}
